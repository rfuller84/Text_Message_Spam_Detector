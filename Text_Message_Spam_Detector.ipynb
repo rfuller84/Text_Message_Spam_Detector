{
 "cells": [
  {
   "cell_type": "markdown",
   "metadata": {},
   "source": [
    "# Building a Text Message Spam Detector\n",
    "---\n",
    "In this project, we will build a text message spam detector using a dataset of messages already classified by humans as either spam or not. We will use two methods to classify new messages as spam or not: Naive Bayes and Logistic Regression. \n",
    "\n",
    "The [Naive Bayes algorithm](https://towardsdatascience.com/naive-bayes-classifier-81d512f50a7c), which will will build from scratch, will analyze text messages by determining whether the words in the message appeared more often in spam messages or non-spam messages. It is called Naive Bayes because the algorithim does not try to intrepret how any word in a message is being used - it only looks for what words are present in the message.\n",
    "\n",
    "The [Logistic Regression](https://towardsdatascience.com/logistic-regression-detailed-overview-46c4da4303bc) model will also use training data that consists of messages that are already labeled as spam or not to create a Sigmoid function that will determine if any given message is likely to be spam or not. Logistic Regression is often used when a dataset needs to be classified into two or more categories (such as spam or not spam).\n",
    "\n",
    "Some of the messages in our dataset contain adult content."
   ]
  },
  {
   "cell_type": "code",
   "execution_count": 1,
   "metadata": {},
   "outputs": [],
   "source": [
    "import pandas as pd\n",
    "import re\n",
    "from sklearn.feature_extraction.text import CountVectorizer\n",
    "from sklearn.model_selection import train_test_split\n",
    "from sklearn.linear_model import LogisticRegression\n",
    "from sklearn.metrics import accuracy_score\n",
    "from sklearn.feature_extraction.text import TfidfVectorizer\n",
    "import nltk\n",
    "from nltk.corpus import stopwords\n",
    "import string\n",
    "\n",
    "# Import SMS messages and spam labels\n",
    "collection = pd.read_csv('SMSSpamCollection', sep='\\t', header=None, names=['Label','SMS'])\n"
   ]
  },
  {
   "cell_type": "code",
   "execution_count": 2,
   "metadata": {},
   "outputs": [
    {
     "name": "stdout",
     "output_type": "stream",
     "text": [
      "\u001b[1mHere is a sample from our dataset. The label 'ham' is used for messages that are not spam.\u001b[0m\n"
     ]
    },
    {
     "data": {
      "text/html": [
       "<div>\n",
       "<style scoped>\n",
       "    .dataframe tbody tr th:only-of-type {\n",
       "        vertical-align: middle;\n",
       "    }\n",
       "\n",
       "    .dataframe tbody tr th {\n",
       "        vertical-align: top;\n",
       "    }\n",
       "\n",
       "    .dataframe thead th {\n",
       "        text-align: right;\n",
       "    }\n",
       "</style>\n",
       "<table border=\"1\" class=\"dataframe\">\n",
       "  <thead>\n",
       "    <tr style=\"text-align: right;\">\n",
       "      <th></th>\n",
       "      <th>Label</th>\n",
       "      <th>SMS</th>\n",
       "    </tr>\n",
       "  </thead>\n",
       "  <tbody>\n",
       "    <tr>\n",
       "      <th>0</th>\n",
       "      <td>ham</td>\n",
       "      <td>Go until jurong point, crazy.. Available only ...</td>\n",
       "    </tr>\n",
       "    <tr>\n",
       "      <th>1</th>\n",
       "      <td>ham</td>\n",
       "      <td>Ok lar... Joking wif u oni...</td>\n",
       "    </tr>\n",
       "    <tr>\n",
       "      <th>2</th>\n",
       "      <td>spam</td>\n",
       "      <td>Free entry in 2 a wkly comp to win FA Cup fina...</td>\n",
       "    </tr>\n",
       "    <tr>\n",
       "      <th>3</th>\n",
       "      <td>ham</td>\n",
       "      <td>U dun say so early hor... U c already then say...</td>\n",
       "    </tr>\n",
       "    <tr>\n",
       "      <th>4</th>\n",
       "      <td>ham</td>\n",
       "      <td>Nah I don't think he goes to usf, he lives aro...</td>\n",
       "    </tr>\n",
       "  </tbody>\n",
       "</table>\n",
       "</div>"
      ],
      "text/plain": [
       "  Label                                                SMS\n",
       "0   ham  Go until jurong point, crazy.. Available only ...\n",
       "1   ham                      Ok lar... Joking wif u oni...\n",
       "2  spam  Free entry in 2 a wkly comp to win FA Cup fina...\n",
       "3   ham  U dun say so early hor... U c already then say...\n",
       "4   ham  Nah I don't think he goes to usf, he lives aro..."
      ]
     },
     "execution_count": 2,
     "metadata": {},
     "output_type": "execute_result"
    }
   ],
   "source": [
    "print(f'\\033[1mHere is a sample from our dataset. The label \\'ham\\' is used for messages that are not spam.\\033[0m')\n",
    "collection.head()"
   ]
  },
  {
   "cell_type": "code",
   "execution_count": 3,
   "metadata": {},
   "outputs": [
    {
     "name": "stdout",
     "output_type": "stream",
     "text": [
      "\u001b[1mThere are 5572 messsages in our dataset.\u001b[0m\n",
      "\n",
      "\u001b[1mHere are the proportions of spam and non-spam messages:\u001b[0m\n"
     ]
    },
    {
     "data": {
      "text/plain": [
       "ham     0.87\n",
       "spam    0.13\n",
       "Name: Label, dtype: float64"
      ]
     },
     "execution_count": 3,
     "metadata": {},
     "output_type": "execute_result"
    }
   ],
   "source": [
    "print(f'\\033[1mThere are {collection.shape[0]} messsages in our dataset.\\033[0m\\n')\n",
    "\n",
    "print(f'\\033[1mHere are the proportions of spam and non-spam messages:\\033[0m')\n",
    "\n",
    "# Identify proportion of messages that are spam\n",
    "round(collection['Label'].value_counts(normalize=True),2)\n"
   ]
  },
  {
   "cell_type": "markdown",
   "metadata": {},
   "source": [
    "## Naive Bayes\n",
    "\n",
    "For the Naive Bayes algorithm, we will start by splitting out dataset into a training set and a testing set. We will build the model using the training set and then assess its performance on the testing set. We will train our data using 70% of the original messages and test it on the remaining 30%."
   ]
  },
  {
   "cell_type": "code",
   "execution_count": 4,
   "metadata": {},
   "outputs": [],
   "source": [
    "# Create function to randomize the dataset and divide into testing and training sets\n",
    "def randomize_dataset(collection, random_state = 1, test_percent = 0.3):\n",
    "    random = collection.sample(frac=1,random_state=random_state)\n",
    "    cutoff = round(len(collection)*(1 - test_percent))\n",
    "    training = random.iloc[0:4458]\n",
    "    testing = random.iloc[4458:]\n",
    "    training.reset_index(inplace=True, drop=True)\n",
    "    testing.reset_index(inplace=True, drop=True)\n",
    "    return training, testing\n",
    "\n",
    "training, testing = randomize_dataset(collection = collection)"
   ]
  },
  {
   "cell_type": "code",
   "execution_count": 5,
   "metadata": {},
   "outputs": [
    {
     "name": "stdout",
     "output_type": "stream",
     "text": [
      "Testing value counts:\n",
      "ham     86.804309\n",
      "spam    13.195691\n",
      "Name: Label, dtype: float64\n",
      "\n",
      "\n",
      "Training value counts:\n",
      "ham     86.54105\n",
      "spam    13.45895\n",
      "Name: Label, dtype: float64\n"
     ]
    }
   ],
   "source": [
    "# Examine if testing and training have similar spam proportions\n",
    "print('Testing value counts:')\n",
    "print(testing['Label'].value_counts(normalize=True)*100)\n",
    "print('\\n')\n",
    "print('Training value counts:')\n",
    "print(training['Label'].value_counts(normalize=True)*100)\n"
   ]
  },
  {
   "cell_type": "markdown",
   "metadata": {},
   "source": [
    "An important part of any text analysis such as spam filtering or sentiment analysis is to pre-process the text. Eventaully we will need to convert words into vectors of numbers so that we can build models. To prepare our dataset for this, we will remove punctuation and make all words lowercase. We will also remove words from our dataset that are not likely to be useful in our analysis due to how often they appear. These words are usually called stopwords."
   ]
  },
  {
   "cell_type": "code",
   "execution_count": 6,
   "metadata": {},
   "outputs": [
    {
     "name": "stdout",
     "output_type": "stream",
     "text": [
      "\u001b[1mThere are 179 stopwords that we will remove from our dataset. Here are a few of them:\u001b[0m \n",
      " ['i', 'me', 'my', 'myself', 'we'] \n"
     ]
    }
   ],
   "source": [
    "# Explore stopwords\n",
    "stop_sample = stopwords.words('english')[:5]\n",
    "stop_len = len(stopwords.words('english'))\n",
    "print(f'\\033[1mThere are {stop_len} stopwords that we will remove from our dataset. Here are a few of them:\\033[0m \\n {stop_sample} ')\n"
   ]
  },
  {
   "cell_type": "code",
   "execution_count": 7,
   "metadata": {},
   "outputs": [
    {
     "data": {
      "text/plain": [
       "0                                 yep pretty sculpture\n",
       "1                         yes princess going make moan\n",
       "2                              welp apparently retired\n",
       "3                                               havent\n",
       "4    forgot 2 ask ü smth theres card da present lei...\n",
       "Name: SMS, dtype: object"
      ]
     },
     "execution_count": 7,
     "metadata": {},
     "output_type": "execute_result"
    }
   ],
   "source": [
    "# Create function to remove punctuation, make words lowercase and remove stopwords\n",
    "def text_preprocess(text):\n",
    "    \n",
    "    # Remove message punctuation\n",
    "    text = text.translate(str.maketrans('', '', string.punctuation))\n",
    "    \n",
    "    # Make messages lowercase\n",
    "    text = text.lower()        \n",
    "    \n",
    "    # Remove stopwords from messages\n",
    "    text = [word for word in text.split() if word not in stopwords.words('english')]\n",
    "    return \" \".join(text)\n",
    "\n",
    "# Apply pre-processing function\n",
    "training['SMS'] = training['SMS'].apply(text_preprocess)\n",
    "training['SMS'].head()"
   ]
  },
  {
   "cell_type": "markdown",
   "metadata": {},
   "source": [
    "Now that we have pre-processed the text messages, we will build a vocabulary using all of the words in our training set. This vocabulary will be useful in building an array to keep track of how frequently each word appears in spam and non-spam messages."
   ]
  },
  {
   "cell_type": "code",
   "execution_count": 8,
   "metadata": {},
   "outputs": [],
   "source": [
    "# Build vocabulary of words using training messages\n",
    "\n",
    "def build_vocab(df, col):\n",
    "    # Make each messages a list of words\n",
    "    words = df[col].str.split()\n",
    "    \n",
    "    # Make blank dictionary\n",
    "    vocabulary = []\n",
    "    \n",
    "    # Iterate through words in each list of words and add to vocabulary list\n",
    "    for row in words:\n",
    "        for word in row:\n",
    "            vocabulary.append(word)\n",
    "        \n",
    "        # Eliminate duplicate entries\n",
    "        vocabulary = set(vocabulary)\n",
    "        \n",
    "        # Convert set back to list\n",
    "        vocabulary = list(vocabulary)\n",
    "    return vocabulary\n",
    "\n",
    "vocabulary = build_vocab(df = training, col = 'SMS')\n"
   ]
  },
  {
   "cell_type": "code",
   "execution_count": 9,
   "metadata": {},
   "outputs": [
    {
     "name": "stdout",
     "output_type": "stream",
     "text": [
      "\u001b[1mOur training vocabulary consists of 8384 words.\u001b[0m\n"
     ]
    }
   ],
   "source": [
    "# Find vocabulary length\n",
    "vocab_length = len(vocabulary)\n",
    "print(f'\\033[1mOur training vocabulary consists of {vocab_length} words.\\033[0m')"
   ]
  },
  {
   "cell_type": "markdown",
   "metadata": {},
   "source": [
    "## Calculating word counts\n",
    "\n",
    "We will now build a dataframe that has a row for each message in our training set and a column for every word in our vocabulary. The numerical values in the dataframe will indicate how many times a given word was used in a given message."
   ]
  },
  {
   "cell_type": "code",
   "execution_count": 10,
   "metadata": {},
   "outputs": [],
   "source": [
    "# Create a nested dictionary that counts how many times each word was used in each sentence\n",
    "# Create dataframe from dictionary\n",
    "def word_counts(df,col, vocabulary):\n",
    "    # Create word count dictionary with 0 as value for each word key from vocabulary list\n",
    "    word_counts_per_sms = {unique_word: [0] * len(df[col]) for unique_word in vocabulary}\n",
    "    \n",
    "    # Create list of words from messages\n",
    "    words = df[col].str.split()\n",
    "    \n",
    "    # Iterrate through list of word lists and add 1 for each time a word in word count dictionary appears\n",
    "    for index, sms in enumerate(words):\n",
    "        for word in sms:\n",
    "            word_counts_per_sms[word][index] += 1\n",
    "    word_counts_per_sms = pd.DataFrame(word_counts_per_sms)\n",
    "    return word_counts_per_sms\n",
    "\n",
    "word_counts_per_sms = word_counts(training, 'SMS', vocabulary)\n",
    "\n",
    "# Combines word count dataset with original messages and labels\n",
    "training_clean = pd.concat([training, word_counts_per_sms],axis=1)"
   ]
  },
  {
   "cell_type": "code",
   "execution_count": 11,
   "metadata": {},
   "outputs": [
    {
     "name": "stdout",
     "output_type": "stream",
     "text": [
      "\u001b[1mHere is our training dataset with the wordcount columns added:\u001b[0m\n"
     ]
    },
    {
     "data": {
      "text/html": [
       "<div>\n",
       "<style scoped>\n",
       "    .dataframe tbody tr th:only-of-type {\n",
       "        vertical-align: middle;\n",
       "    }\n",
       "\n",
       "    .dataframe tbody tr th {\n",
       "        vertical-align: top;\n",
       "    }\n",
       "\n",
       "    .dataframe thead th {\n",
       "        text-align: right;\n",
       "    }\n",
       "</style>\n",
       "<table border=\"1\" class=\"dataframe\">\n",
       "  <thead>\n",
       "    <tr style=\"text-align: right;\">\n",
       "      <th></th>\n",
       "      <th>Label</th>\n",
       "      <th>SMS</th>\n",
       "      <th>lyrics</th>\n",
       "      <th>cust</th>\n",
       "      <th>webadres</th>\n",
       "      <th>phone</th>\n",
       "      <th>sorts</th>\n",
       "      <th>uncut</th>\n",
       "      <th>wenwecan</th>\n",
       "      <th>distract</th>\n",
       "      <th>...</th>\n",
       "      <th>lifetime</th>\n",
       "      <th>tiny</th>\n",
       "      <th>smartcall</th>\n",
       "      <th>ros</th>\n",
       "      <th>nalla</th>\n",
       "      <th>prob</th>\n",
       "      <th>2daylove</th>\n",
       "      <th>stoptxtstop£150week</th>\n",
       "      <th>pg</th>\n",
       "      <th>waythis</th>\n",
       "    </tr>\n",
       "  </thead>\n",
       "  <tbody>\n",
       "    <tr>\n",
       "      <th>0</th>\n",
       "      <td>ham</td>\n",
       "      <td>yep pretty sculpture</td>\n",
       "      <td>0</td>\n",
       "      <td>0</td>\n",
       "      <td>0</td>\n",
       "      <td>0</td>\n",
       "      <td>0</td>\n",
       "      <td>0</td>\n",
       "      <td>0</td>\n",
       "      <td>0</td>\n",
       "      <td>...</td>\n",
       "      <td>0</td>\n",
       "      <td>0</td>\n",
       "      <td>0</td>\n",
       "      <td>0</td>\n",
       "      <td>0</td>\n",
       "      <td>0</td>\n",
       "      <td>0</td>\n",
       "      <td>0</td>\n",
       "      <td>0</td>\n",
       "      <td>0</td>\n",
       "    </tr>\n",
       "    <tr>\n",
       "      <th>1</th>\n",
       "      <td>ham</td>\n",
       "      <td>yes princess going make moan</td>\n",
       "      <td>0</td>\n",
       "      <td>0</td>\n",
       "      <td>0</td>\n",
       "      <td>0</td>\n",
       "      <td>0</td>\n",
       "      <td>0</td>\n",
       "      <td>0</td>\n",
       "      <td>0</td>\n",
       "      <td>...</td>\n",
       "      <td>0</td>\n",
       "      <td>0</td>\n",
       "      <td>0</td>\n",
       "      <td>0</td>\n",
       "      <td>0</td>\n",
       "      <td>0</td>\n",
       "      <td>0</td>\n",
       "      <td>0</td>\n",
       "      <td>0</td>\n",
       "      <td>0</td>\n",
       "    </tr>\n",
       "    <tr>\n",
       "      <th>2</th>\n",
       "      <td>ham</td>\n",
       "      <td>welp apparently retired</td>\n",
       "      <td>0</td>\n",
       "      <td>0</td>\n",
       "      <td>0</td>\n",
       "      <td>0</td>\n",
       "      <td>0</td>\n",
       "      <td>0</td>\n",
       "      <td>0</td>\n",
       "      <td>0</td>\n",
       "      <td>...</td>\n",
       "      <td>0</td>\n",
       "      <td>0</td>\n",
       "      <td>0</td>\n",
       "      <td>0</td>\n",
       "      <td>0</td>\n",
       "      <td>0</td>\n",
       "      <td>0</td>\n",
       "      <td>0</td>\n",
       "      <td>0</td>\n",
       "      <td>0</td>\n",
       "    </tr>\n",
       "    <tr>\n",
       "      <th>3</th>\n",
       "      <td>ham</td>\n",
       "      <td>havent</td>\n",
       "      <td>0</td>\n",
       "      <td>0</td>\n",
       "      <td>0</td>\n",
       "      <td>0</td>\n",
       "      <td>0</td>\n",
       "      <td>0</td>\n",
       "      <td>0</td>\n",
       "      <td>0</td>\n",
       "      <td>...</td>\n",
       "      <td>0</td>\n",
       "      <td>0</td>\n",
       "      <td>0</td>\n",
       "      <td>0</td>\n",
       "      <td>0</td>\n",
       "      <td>0</td>\n",
       "      <td>0</td>\n",
       "      <td>0</td>\n",
       "      <td>0</td>\n",
       "      <td>0</td>\n",
       "    </tr>\n",
       "    <tr>\n",
       "      <th>4</th>\n",
       "      <td>ham</td>\n",
       "      <td>forgot 2 ask ü smth theres card da present lei...</td>\n",
       "      <td>0</td>\n",
       "      <td>0</td>\n",
       "      <td>0</td>\n",
       "      <td>0</td>\n",
       "      <td>0</td>\n",
       "      <td>0</td>\n",
       "      <td>0</td>\n",
       "      <td>0</td>\n",
       "      <td>...</td>\n",
       "      <td>0</td>\n",
       "      <td>0</td>\n",
       "      <td>0</td>\n",
       "      <td>0</td>\n",
       "      <td>0</td>\n",
       "      <td>0</td>\n",
       "      <td>0</td>\n",
       "      <td>0</td>\n",
       "      <td>0</td>\n",
       "      <td>0</td>\n",
       "    </tr>\n",
       "  </tbody>\n",
       "</table>\n",
       "<p>5 rows × 8386 columns</p>\n",
       "</div>"
      ],
      "text/plain": [
       "  Label                                                SMS  lyrics  cust  \\\n",
       "0   ham                               yep pretty sculpture       0     0   \n",
       "1   ham                       yes princess going make moan       0     0   \n",
       "2   ham                            welp apparently retired       0     0   \n",
       "3   ham                                             havent       0     0   \n",
       "4   ham  forgot 2 ask ü smth theres card da present lei...       0     0   \n",
       "\n",
       "   webadres  phone  sorts  uncut  wenwecan  distract  ...  lifetime  tiny  \\\n",
       "0         0      0      0      0         0         0  ...         0     0   \n",
       "1         0      0      0      0         0         0  ...         0     0   \n",
       "2         0      0      0      0         0         0  ...         0     0   \n",
       "3         0      0      0      0         0         0  ...         0     0   \n",
       "4         0      0      0      0         0         0  ...         0     0   \n",
       "\n",
       "   smartcall  ros  nalla  prob  2daylove  stoptxtstop£150week  pg  waythis  \n",
       "0          0    0      0     0         0                    0   0        0  \n",
       "1          0    0      0     0         0                    0   0        0  \n",
       "2          0    0      0     0         0                    0   0        0  \n",
       "3          0    0      0     0         0                    0   0        0  \n",
       "4          0    0      0     0         0                    0   0        0  \n",
       "\n",
       "[5 rows x 8386 columns]"
      ]
     },
     "execution_count": 11,
     "metadata": {},
     "output_type": "execute_result"
    }
   ],
   "source": [
    "print(f'\\033[1mHere is our training dataset with the wordcount columns added:\\033[0m')\n",
    "\n",
    "training_clean.head()"
   ]
  },
  {
   "cell_type": "markdown",
   "metadata": {},
   "source": [
    "## Calculating prior probabilities\n",
    "\n",
    "A key part of any Bayesian analysis is using prior knowledge. The proportion of messages in the training set that are spam and not spam will provide us with a starting point to assess whether a randomly selected message in the testing set is spam or not."
   ]
  },
  {
   "cell_type": "code",
   "execution_count": 12,
   "metadata": {},
   "outputs": [
    {
     "name": "stdout",
     "output_type": "stream",
     "text": [
      "\u001b[1mThe prior probability of a message being spam is 13.5%. \n",
      "The prior probability of a message not being spam is 86.5%.\u001b[0m\n"
     ]
    }
   ],
   "source": [
    "# Calculate prior probability that a randomly selected message will be spam or not\n",
    "def get_priors(df):\n",
    "    # Get separate dataframes for spam and non-spam messages\n",
    "    spam_messages = df[df['Label']=='spam']\n",
    "    ham_messages = df[df['Label']=='ham']\n",
    "    \n",
    "    # Calculate proportions of messages that are spam/not spam\n",
    "    p_spam = len(spam_messages)/len(df)\n",
    "    p_ham = len(ham_messages)/len(df)\n",
    "    return p_spam, p_ham\n",
    "    \n",
    "p_spam, p_ham = get_priors(training_clean)\n",
    "\n",
    "print(f'\\033[1mThe prior probability of a message being spam is {round(100*p_spam,1)}%. \\nThe prior probability of a message not being spam is {round(100*p_ham,1)}%.\\033[0m')"
   ]
  },
  {
   "cell_type": "markdown",
   "metadata": {},
   "source": [
    "## Calculating word parameters\n",
    "\n",
    "We will now determine how often each word is used in spam messages and how often each word is used in non-spam messages. When analyzing whether a message is spam, Bayes Theorem will look at how often each of the words in the messages appeared in spam messages in the training set. It will use this information in combination with the prior probability that a message was spam to determine the probability that the message in question is spam."
   ]
  },
  {
   "cell_type": "code",
   "execution_count": 13,
   "metadata": {},
   "outputs": [],
   "source": [
    "# Calculating how often each word was used in spam and non-spam messages\n",
    "# Creates spam and non-spam parameters for each word\n",
    "def get_parameters(df):\n",
    "    \n",
    "    # Get separate dataframes for spam and non-spam messages\n",
    "    spam_messages = df[df['Label']=='spam']\n",
    "    ham_messages = df[df['Label']=='ham']\n",
    "    \n",
    "    # Get vocab length\n",
    "    n_voc = len(vocabulary)\n",
    "\n",
    "    # Get number of spam/non-spam messages\n",
    "    n_spam = spam_messages['SMS'].apply(len).sum()\n",
    "    n_ham = ham_messages['SMS'].apply(len).sum()\n",
    "    alpha = 1\n",
    "    \n",
    "    # Create spam/ham dictionaries starting with value of 0 for each word\n",
    "    param_spam = {unique_word:0 for unique_word in vocabulary}\n",
    "    param_ham = {unique_word:0 for unique_word in vocabulary}\n",
    "    \n",
    "    # Iterate through each word in vocabulary and see how many times it appears in spam/non-spam messages\n",
    "    # To find word spam parameter, divide above apperance count by count of all words in all spam messages\n",
    "    # Same process for word ham parameter\n",
    "    for word in vocabulary:\n",
    "        n_word_given_spam = spam_messages[word].sum()\n",
    "        \n",
    "        # Alpha term added for additive smoothing\n",
    "        # https://en.wikipedia.org/wiki/Additive_smoothing\n",
    "        param_spam[word] = (n_word_given_spam + alpha)/(n_spam + alpha * n_voc)\n",
    "        n_word_given_ham = ham_messages[word].sum()\n",
    "        param_ham[word] = (n_word_given_ham + alpha)/(n_ham + alpha * n_voc)\n",
    "    return param_spam, param_ham\n",
    "\n",
    "param_spam, param_ham = get_parameters(training_clean)"
   ]
  },
  {
   "attachments": {
    "bayes_theorem.png": {
     "image/png": "[encoded data removed]"
    }
   },
   "cell_type": "markdown",
   "metadata": {},
   "source": [
    "We are now ready to use Bayes Theorem, which is shown below. For each message, we will calculate two probabilities:\n",
    "- the probability that the message is spam\n",
    "- the probability that the message is not spam\n",
    "\n",
    "To get the probability that the message is spam given the words in the message, we will multiply the prior probability that the message is spam by the probability of each word being in the message if it was indeed spam. We will multiply the prior probability that the message is not spam by the probability of each word being in the message if it was indeed not spam. \n",
    "\n",
    "The predicted label will be whichever probability is greater: spam or not spam. We can ignore the demoninator in the theorem below since it same for both calcuations and will therefore not have an impact on the predicted label.\n",
    "\n",
    "![bayes_theorem.png](attachment:bayes_theorem.png)\n",
    "\n",
    "Source: https://mathematicalmysteries.org/bayes-theorem/"
   ]
  },
  {
   "cell_type": "code",
   "execution_count": 14,
   "metadata": {},
   "outputs": [],
   "source": [
    "# Create Naive Bayes Classifier function\n",
    "def Bayes_classifier(message):\n",
    "\n",
    "    # Replicate pre-processing function\n",
    "    message = message.translate(str.maketrans('', '', string.punctuation))\n",
    "    message = message.lower()        \n",
    "    message = [word for word in message.split() if word not in stopwords.words('english')] \n",
    "\n",
    "    # Make initial probability that message is spam/not-spam equal to probability that a random word is spam/not spam\n",
    "    p_spam_given_message = p_spam\n",
    "    p_ham_given_message = p_ham\n",
    "    \n",
    "    # Iterate through words in message input to function\n",
    "    # If word has a spam parameter, multiply that parameter by current probability that the message is spam\n",
    "    # Same process for non-spam probabilities\n",
    "    for word in message:\n",
    "        if word in param_spam:\n",
    "            p_spam_given_message *= param_spam[word]\n",
    "        if word in param_ham:\n",
    "            p_ham_given_message *= param_ham[word]\n",
    "\n",
    "    # If probability that a message is spam is less than the probability it is not, return ham\n",
    "    if p_ham_given_message > p_spam_given_message:\n",
    "        return 'ham'\n",
    "    \n",
    "    # If probability that a message is spam is greater than the probability it is not, return spam\n",
    "    elif p_ham_given_message < p_spam_given_message:\n",
    "        return 'spam'\n",
    "    \n",
    "    # If probabilities are equal, indicate message needs human classification\n",
    "    else:\n",
    "        return 'needs human classification'"
   ]
  },
  {
   "cell_type": "code",
   "execution_count": 15,
   "metadata": {},
   "outputs": [],
   "source": [
    "# Same function as above, but also prints the probability that a message is spam/ham\n",
    "def Bayes_classifier_probs(message):\n",
    "\n",
    "    message = message.translate(str.maketrans('', '', string.punctuation))\n",
    "    message = message.lower()        \n",
    "    message = [word for word in message.split() if word not in stopwords.words('english')] \n",
    "\n",
    "    p_spam_given_message = p_spam\n",
    "    p_ham_given_message = p_ham\n",
    "    \n",
    "    for word in message:\n",
    "        if word in param_spam:\n",
    "            p_spam_given_message *= param_spam[word]\n",
    "        if word in param_ham:\n",
    "            p_ham_given_message *= param_ham[word]\n",
    "\n",
    "    print('P(Spam|message):', p_spam_given_message)\n",
    "    print('P(Ham|message):', p_ham_given_message)\n",
    "\n",
    "    if p_ham_given_message > p_spam_given_message:\n",
    "        return print('ham')\n",
    "    elif p_ham_given_message < p_spam_given_message:\n",
    "        return print('spam')\n",
    "    else:\n",
    "        return ('needs human classification')"
   ]
  },
  {
   "cell_type": "code",
   "execution_count": 16,
   "metadata": {},
   "outputs": [],
   "source": [
    "def accuracy_test (testing):\n",
    "    \n",
    "    # Establish variable to keep track of number of correctly classified messages in test set\n",
    "    correct = 0\n",
    "    total = len(testing)\n",
    "    \n",
    "    # Iterates through dataframe\n",
    "    for row in testing.iterrows():\n",
    "        row = row[1]\n",
    "        \n",
    "        # Compares Label and predicted row and adds 1 to 'correct' variable of they are equal\n",
    "        if row['Label']==row['predicted']:\n",
    "            correct +=1\n",
    "    return print('According to this test, the accuracy of the Naive Bayes spam filter is {:.1%}'.format(correct/total))"
   ]
  },
  {
   "cell_type": "code",
   "execution_count": 17,
   "metadata": {},
   "outputs": [
    {
     "name": "stdout",
     "output_type": "stream",
     "text": [
      "Here are some sample predictions and how they compare with original labels:\n"
     ]
    },
    {
     "data": {
      "text/html": [
       "<div>\n",
       "<style scoped>\n",
       "    .dataframe tbody tr th:only-of-type {\n",
       "        vertical-align: middle;\n",
       "    }\n",
       "\n",
       "    .dataframe tbody tr th {\n",
       "        vertical-align: top;\n",
       "    }\n",
       "\n",
       "    .dataframe thead th {\n",
       "        text-align: right;\n",
       "    }\n",
       "</style>\n",
       "<table border=\"1\" class=\"dataframe\">\n",
       "  <thead>\n",
       "    <tr style=\"text-align: right;\">\n",
       "      <th></th>\n",
       "      <th>Label</th>\n",
       "      <th>SMS</th>\n",
       "      <th>predicted</th>\n",
       "    </tr>\n",
       "  </thead>\n",
       "  <tbody>\n",
       "    <tr>\n",
       "      <th>0</th>\n",
       "      <td>ham</td>\n",
       "      <td>Later i guess. I needa do mcat study too.</td>\n",
       "      <td>ham</td>\n",
       "    </tr>\n",
       "    <tr>\n",
       "      <th>1</th>\n",
       "      <td>ham</td>\n",
       "      <td>But i haf enuff space got like 4 mb...</td>\n",
       "      <td>ham</td>\n",
       "    </tr>\n",
       "    <tr>\n",
       "      <th>2</th>\n",
       "      <td>spam</td>\n",
       "      <td>Had your mobile 10 mths? Update to latest Oran...</td>\n",
       "      <td>spam</td>\n",
       "    </tr>\n",
       "    <tr>\n",
       "      <th>3</th>\n",
       "      <td>ham</td>\n",
       "      <td>All sounds good. Fingers . Makes it difficult ...</td>\n",
       "      <td>ham</td>\n",
       "    </tr>\n",
       "    <tr>\n",
       "      <th>4</th>\n",
       "      <td>ham</td>\n",
       "      <td>All done, all handed in. Don't know if mega sh...</td>\n",
       "      <td>ham</td>\n",
       "    </tr>\n",
       "  </tbody>\n",
       "</table>\n",
       "</div>"
      ],
      "text/plain": [
       "  Label                                                SMS predicted\n",
       "0   ham          Later i guess. I needa do mcat study too.       ham\n",
       "1   ham             But i haf enuff space got like 4 mb...       ham\n",
       "2  spam  Had your mobile 10 mths? Update to latest Oran...      spam\n",
       "3   ham  All sounds good. Fingers . Makes it difficult ...       ham\n",
       "4   ham  All done, all handed in. Don't know if mega sh...       ham"
      ]
     },
     "execution_count": 17,
     "metadata": {},
     "output_type": "execute_result"
    }
   ],
   "source": [
    "# Add column to testing dataframe to show what label the Bayes classifier predicted for each messages\n",
    "testing['predicted'] = testing['SMS'].apply(Bayes_classifier)\n",
    "\n",
    "print('Here are some sample predictions and how they compare with original labels:')\n",
    "testing.head()"
   ]
  },
  {
   "cell_type": "code",
   "execution_count": 18,
   "metadata": {},
   "outputs": [
    {
     "name": "stdout",
     "output_type": "stream",
     "text": [
      "According to this test, the accuracy of the Naive Bayes spam filter is 97.4%\n"
     ]
    }
   ],
   "source": [
    "# Calculate accuracy of Bayes Classifier on test set using accuracy function\n",
    "accuracy_test(testing=testing)"
   ]
  },
  {
   "cell_type": "code",
   "execution_count": 19,
   "metadata": {},
   "outputs": [
    {
     "name": "stdout",
     "output_type": "stream",
     "text": [
      "P(Spam|message): 6.352938452465077e-17\n",
      "P(Ham|message): 2.4050579947241007e-19\n",
      "spam\n"
     ]
    }
   ],
   "source": [
    "# Test out Bayes Classifier on message we generated\n",
    "Bayes_classifier_probs('WINNER!! This is the secret code to unlock the money: C3421.')\n"
   ]
  },
  {
   "cell_type": "code",
   "execution_count": 20,
   "metadata": {},
   "outputs": [
    {
     "name": "stdout",
     "output_type": "stream",
     "text": [
      "P(Spam|message): 2.522334308048636e-21\n",
      "P(Ham|message): 2.0735745552836e-18\n",
      "ham\n"
     ]
    }
   ],
   "source": [
    "# Test out Bayes Classifier on message we generated\n",
    "Bayes_classifier_probs(\"Sounds good, Tom, then see u there\")"
   ]
  },
  {
   "cell_type": "code",
   "execution_count": 21,
   "metadata": {},
   "outputs": [
    {
     "name": "stdout",
     "output_type": "stream",
     "text": [
      "\u001b[1mHere are some of the non-spam messages that the Bayes Classifier incorrectly labeled as spam: \u001b[0m\n",
      "\n",
      "I liked the new mobile\n",
      "\n",
      "\n",
      " and  picking them up from various points\n",
      "\n",
      "\n",
      "How was txting and driving\n",
      "\n",
      "\n"
     ]
    }
   ],
   "source": [
    "# Create dataframe of messages that Bayes Classifier labeled incorrectly as spam\n",
    "incorrectly_labeled = testing[(testing['Label']== 'ham')&(testing['predicted']=='spam')]\n",
    "\n",
    "print(f'\\033[1mHere are some of the non-spam messages that the Bayes Classifier incorrectly labeled as spam: \\033[0m\\n')\n",
    "for message in incorrectly_labeled['SMS'].head(3):\n",
    "    print(message)\n",
    "    print('\\n')"
   ]
  },
  {
   "cell_type": "code",
   "execution_count": 22,
   "metadata": {},
   "outputs": [
    {
     "name": "stdout",
     "output_type": "stream",
     "text": [
      "\u001b[1mHere are some of the spam messages that the Bayes Classifier incorrectly labeled as non-spam: \u001b[0m\n",
      "\n",
      "Not heard from U4 a while. Call me now am here all night with just my knickers on. Make me beg for it like U did last time 01223585236 XX Luv Nikiyu4.net\n",
      "\n",
      "\n",
      "More people are dogging in your area now. Call 09090204448 and join like minded guys. Why not arrange 1 yourself. There's 1 this evening. A£1.50 minAPN LS278BB\n",
      "\n",
      "\n",
      "Cashbin.co.uk (Get lots of cash this weekend!) www.cashbin.co.uk Dear Welcome to the weekend We have got our biggest and best EVER cash give away!! These..\n",
      "\n",
      "\n"
     ]
    }
   ],
   "source": [
    "# Create dataframe of messages that Bayes Classifier labeled incorrectly as not spam\n",
    "incorrectly_labeled = testing[(testing['Label']== 'spam')&(testing['predicted']=='ham')]\n",
    "\n",
    "print(f'\\033[1mHere are some of the spam messages that the Bayes Classifier incorrectly labeled as non-spam: \\033[0m\\n')\n",
    "for message in incorrectly_labeled['SMS'].head(3):\n",
    "    print(message)\n",
    "    print('\\n')"
   ]
  },
  {
   "cell_type": "markdown",
   "metadata": {},
   "source": [
    "---\n",
    "One useful feature of our parameters is that we can see which words occured most in messages that were labeled spam in the training set. We can then use these words to see if we can create a message that a human would likely label as not-spam, but our algorithm will label as spam."
   ]
  },
  {
   "cell_type": "code",
   "execution_count": 23,
   "metadata": {},
   "outputs": [],
   "source": [
    "top_100_spam = []\n",
    "\n",
    "# Iterate through word spam parameters and find word that appeared most in pre-processed spam messages\n",
    "for item in sorted(param_spam.items(), key=lambda item: item[1], reverse=True)[:100]:\n",
    "    a,b = item\n",
    "    top_100_spam.append(a)\n",
    "    \n",
    "top_100_ham = []\n",
    "\n",
    "# Iterate through word ham parameters and find word that appeared most in pre-processed ham messages\n",
    "for item in sorted(param_ham.items(), key=lambda item: item[1], reverse=True)[:100]:\n",
    "    a,b = item\n",
    "    top_100_ham.append(a)"
   ]
  },
  {
   "cell_type": "code",
   "execution_count": 24,
   "metadata": {},
   "outputs": [
    {
     "name": "stdout",
     "output_type": "stream",
     "text": [
      "Here are the non-stopword words that were in the top 100 most common words for spam messages, but not in the top 100 words for ham messages:\n",
      "\n"
     ]
    },
    {
     "data": {
      "text/plain": [
       "['free',\n",
       " 'txt',\n",
       " 'stop',\n",
       " 'mobile',\n",
       " 'claim',\n",
       " 'reply',\n",
       " 'prize',\n",
       " 'nokia',\n",
       " 'win',\n",
       " 'urgent',\n",
       " 'cash',\n",
       " 'contact',\n",
       " 'service',\n",
       " '16',\n",
       " 'guaranteed',\n",
       " 'chat',\n",
       " 'tone',\n",
       " 'customer',\n",
       " 'per',\n",
       " 'week',\n",
       " 'awarded',\n",
       " 'line',\n",
       " 'po',\n",
       " '18',\n",
       " 'draw',\n",
       " 'message',\n",
       " 'receive',\n",
       " 'mins',\n",
       " 'box',\n",
       " 'latest',\n",
       " '150ppm',\n",
       " '1',\n",
       " '£1000',\n",
       " 'video',\n",
       " 'live',\n",
       " '£2000',\n",
       " 'every',\n",
       " 'award',\n",
       " 'holiday',\n",
       " 'ringtone',\n",
       " 'landline',\n",
       " '500',\n",
       " 'shows',\n",
       " 'chance',\n",
       " 'code',\n",
       " 'camera',\n",
       " 'orange',\n",
       " 'selected',\n",
       " 'apply',\n",
       " 'sms',\n",
       " 'msg',\n",
       " 'tcs',\n",
       " '£150',\n",
       " 'offer',\n",
       " 'valid',\n",
       " 'network',\n",
       " 'mob',\n",
       " 'collection',\n",
       " 'cost',\n",
       " 'find',\n",
       " 'tones',\n",
       " '1st',\n",
       " '150p',\n",
       " 'rate',\n",
       " 'attempt',\n",
       " 'entry',\n",
       " 'delivery',\n",
       " '2nd',\n",
       " 'collect',\n",
       " 'bonus',\n",
       " 'texts',\n",
       " 'weekly',\n",
       " 'club',\n",
       " '£100',\n",
       " '8007',\n",
       " 'todays',\n",
       " '£500',\n",
       " '3',\n",
       " 'music',\n",
       " 'auction',\n",
       " '86688',\n",
       " '£5000']"
      ]
     },
     "execution_count": 24,
     "metadata": {},
     "output_type": "execute_result"
    }
   ],
   "source": [
    "spam_not_ham = []\n",
    "\n",
    "# Find 100 most common words that appeared most in pre-processed spam messages, but not in ham messages\n",
    "for word in top_100_spam:\n",
    "    if word not in top_100_ham:\n",
    "        spam_not_ham.append(word)\n",
    "\n",
    "print ('Here are the non-stopword words that were in the top 100 most common words for spam messages, but not in the top 100 words for ham messages:\\n')\n",
    "list(spam_not_ham)"
   ]
  },
  {
   "cell_type": "code",
   "execution_count": 25,
   "metadata": {},
   "outputs": [],
   "source": [
    "# Create messages consisting mostly of words in above list\n",
    "tricky_messages = [\"every delivery service costs cash\",\"holiday music\",\"latest music service\",\"chat on the phone\",\n",
    "                   \"i draw the line\",\"let's chat on the phone\"]"
   ]
  },
  {
   "cell_type": "code",
   "execution_count": 26,
   "metadata": {},
   "outputs": [
    {
     "name": "stdout",
     "output_type": "stream",
     "text": [
      "\u001b[1mMessage: \u001b[0m every delivery service costs cash\n",
      "\u001b[1mLabel: \u001b[0m spam\n",
      "\n",
      "\u001b[1mMessage: \u001b[0m holiday music\n",
      "\u001b[1mLabel: \u001b[0m spam\n",
      "\n",
      "\u001b[1mMessage: \u001b[0m latest music service\n",
      "\u001b[1mLabel: \u001b[0m spam\n",
      "\n",
      "\u001b[1mMessage: \u001b[0m chat on the phone\n",
      "\u001b[1mLabel: \u001b[0m spam\n",
      "\n",
      "\u001b[1mMessage: \u001b[0m i draw the line\n",
      "\u001b[1mLabel: \u001b[0m spam\n",
      "\n",
      "\u001b[1mMessage: \u001b[0m let's chat on the phone\n",
      "\u001b[1mLabel: \u001b[0m spam\n",
      "\n"
     ]
    }
   ],
   "source": [
    "# Test each message in tricky messages list\n",
    "for message in tricky_messages:\n",
    "    print(f'\\033[1mMessage: \\033[0m {message}')\n",
    "    print(f'\\033[1mLabel: \\033[0m {Bayes_classifier(message)}\\n')"
   ]
  },
  {
   "cell_type": "markdown",
   "metadata": {},
   "source": [
    "As we can see, with the knowledge of words that are in the top 100 most likely to appear in spam messages and not in the top 100 for non-spam messages, it is possible to craft a message that could easily appear in a normal text conversation that would be labeled as spam by the Bayes Classifier. "
   ]
  },
  {
   "cell_type": "markdown",
   "metadata": {},
   "source": [
    "## Logistic Regression\n",
    "\n",
    "For Logistic Regression, we will start by changing the labels from 'spam' and 'ham' to 1 if the message is spam and 0 if the message is not spam. We will also use the same pre-processing steps we used on messages before running them on the Naive Classifier."
   ]
  },
  {
   "cell_type": "code",
   "execution_count": 27,
   "metadata": {},
   "outputs": [
    {
     "data": {
      "text/html": [
       "<div>\n",
       "<style scoped>\n",
       "    .dataframe tbody tr th:only-of-type {\n",
       "        vertical-align: middle;\n",
       "    }\n",
       "\n",
       "    .dataframe tbody tr th {\n",
       "        vertical-align: top;\n",
       "    }\n",
       "\n",
       "    .dataframe thead th {\n",
       "        text-align: right;\n",
       "    }\n",
       "</style>\n",
       "<table border=\"1\" class=\"dataframe\">\n",
       "  <thead>\n",
       "    <tr style=\"text-align: right;\">\n",
       "      <th></th>\n",
       "      <th>SMS</th>\n",
       "      <th>Spam</th>\n",
       "    </tr>\n",
       "  </thead>\n",
       "  <tbody>\n",
       "    <tr>\n",
       "      <th>0</th>\n",
       "      <td>go jurong point crazy available bugis n great ...</td>\n",
       "      <td>0</td>\n",
       "    </tr>\n",
       "    <tr>\n",
       "      <th>1</th>\n",
       "      <td>ok lar joking wif u oni</td>\n",
       "      <td>0</td>\n",
       "    </tr>\n",
       "    <tr>\n",
       "      <th>2</th>\n",
       "      <td>free entry 2 wkly comp win fa cup final tkts 2...</td>\n",
       "      <td>1</td>\n",
       "    </tr>\n",
       "    <tr>\n",
       "      <th>3</th>\n",
       "      <td>u dun say early hor u c already say</td>\n",
       "      <td>0</td>\n",
       "    </tr>\n",
       "    <tr>\n",
       "      <th>4</th>\n",
       "      <td>nah dont think goes usf lives around though</td>\n",
       "      <td>0</td>\n",
       "    </tr>\n",
       "  </tbody>\n",
       "</table>\n",
       "</div>"
      ],
      "text/plain": [
       "                                                 SMS  Spam\n",
       "0  go jurong point crazy available bugis n great ...     0\n",
       "1                            ok lar joking wif u oni     0\n",
       "2  free entry 2 wkly comp win fa cup final tkts 2...     1\n",
       "3                u dun say early hor u c already say     0\n",
       "4        nah dont think goes usf lives around though     0"
      ]
     },
     "execution_count": 27,
     "metadata": {},
     "output_type": "execute_result"
    }
   ],
   "source": [
    "# Convert Label to binary as indicator of spam or not\n",
    "def Convert_to_bin(text):    \n",
    "    if text == 'spam':\n",
    "        text = 1\n",
    "    else:\n",
    "        text = 0\n",
    "    return text\n",
    "\n",
    "# Pre-process messages\n",
    "clean_collection = collection.copy()[['SMS','Label']]\n",
    "clean_collection['SMS']=clean_collection['SMS'].apply(text_preprocess)\n",
    "\n",
    "# Change columns names to reflect new labels\n",
    "clean_collection.rename(columns={'Label':'Spam'}, inplace =True)\n",
    "clean_collection['Spam'] = clean_collection['Spam'].apply(Convert_to_bin)\n",
    "clean_collection.head()"
   ]
  },
  {
   "cell_type": "markdown",
   "metadata": {},
   "source": [
    "We will still split our dataset into training and testing sets. We will continue to keep the same ratios with 70% of our data being used for training."
   ]
  },
  {
   "cell_type": "code",
   "execution_count": 28,
   "metadata": {},
   "outputs": [],
   "source": [
    "# Split data into x and y training and testing sets\n",
    "x = clean_collection['SMS'].values\n",
    "y = clean_collection['Spam'].values\n",
    "x_train, x_test, y_train, y_test= train_test_split(x,y, test_size=0.3, random_state=1)"
   ]
  },
  {
   "cell_type": "code",
   "execution_count": 29,
   "metadata": {},
   "outputs": [],
   "source": [
    "# Turn texts into vectors\n",
    "vec = CountVectorizer()\n",
    "vec.fit(x_train)\n",
    "x_train=vec.transform(x_train)\n",
    "x_test=vec.transform(x_test)"
   ]
  },
  {
   "cell_type": "code",
   "execution_count": 30,
   "metadata": {},
   "outputs": [
    {
     "name": "stdout",
     "output_type": "stream",
     "text": [
      "\u001b[1mAccording to this test, the accuracy of the Logistic Regression spam filter is 96.9%\u001b[1m\n"
     ]
    }
   ],
   "source": [
    "# Create Logistic Regression models using sci-kit modules\n",
    "spam_model = LogisticRegression(solver='liblinear', penalty='l1')\n",
    "\n",
    "# Fit training labels to training word vector set\n",
    "spam_model.fit(x_train, y_train)\n",
    "\n",
    "# Predict labels from model\n",
    "pred = spam_model.predict(x_test)\n",
    "\n",
    "# Identify label accuracy from test set predictions\n",
    "LR_accuracy = accuracy_score(y_test,pred)\n",
    "print('\\033[1mAccording to this test, the accuracy of the Logistic Regression spam filter is {:.1%}\\033[1m'.format(LR_accuracy))"
   ]
  },
  {
   "cell_type": "code",
   "execution_count": 31,
   "metadata": {},
   "outputs": [],
   "source": [
    "# Create logistic regression classifier that will work for individual messages\n",
    "def Log_Reg_Classifier(message):\n",
    "    # Turn message into a list\n",
    "    message_list = [message]\n",
    "#     vec = CountVectorizer(lowercase=False, preprocessor=None, tokenizer=None)\n",
    "#     vec.fit(x_train)\n",
    "    # Vectorize message\n",
    "    message_matrix=vec.transform(message_list)\n",
    "    pred = spam_model.predict(message_matrix)\n",
    "    if pred == 0:\n",
    "        return 'not spam'\n",
    "    elif pred == 1:\n",
    "        return 'spam'"
   ]
  },
  {
   "cell_type": "code",
   "execution_count": 32,
   "metadata": {},
   "outputs": [
    {
     "data": {
      "text/plain": [
       "'not spam'"
      ]
     },
     "execution_count": 32,
     "metadata": {},
     "output_type": "execute_result"
    }
   ],
   "source": [
    "# Test out Logistic Regression Classifier on message we generated\n",
    "Log_Reg_Classifier('WINNER!! This is the secret code to unlock the money: C3421.')"
   ]
  },
  {
   "cell_type": "code",
   "execution_count": 33,
   "metadata": {},
   "outputs": [
    {
     "data": {
      "text/plain": [
       "'not spam'"
      ]
     },
     "execution_count": 33,
     "metadata": {},
     "output_type": "execute_result"
    }
   ],
   "source": [
    "# Test out Logistic Regression Classifier on message we generated\n",
    "Log_Reg_Classifier(\"Sounds good, Tom, then see u there\")"
   ]
  },
  {
   "cell_type": "code",
   "execution_count": 34,
   "metadata": {},
   "outputs": [
    {
     "name": "stdout",
     "output_type": "stream",
     "text": [
      "\u001b[1mMessage: \u001b[0m every delivery service costs cash\n",
      "\u001b[1mLabel: \u001b[0m spam\n",
      "\n",
      "\u001b[1mMessage: \u001b[0m holiday music\n",
      "\u001b[1mLabel: \u001b[0m not spam\n",
      "\n",
      "\u001b[1mMessage: \u001b[0m latest music service\n",
      "\u001b[1mLabel: \u001b[0m spam\n",
      "\n",
      "\u001b[1mMessage: \u001b[0m chat on the phone\n",
      "\u001b[1mLabel: \u001b[0m not spam\n",
      "\n",
      "\u001b[1mMessage: \u001b[0m i draw the line\n",
      "\u001b[1mLabel: \u001b[0m not spam\n",
      "\n",
      "\u001b[1mMessage: \u001b[0m let's chat on the phone\n",
      "\u001b[1mLabel: \u001b[0m not spam\n",
      "\n"
     ]
    }
   ],
   "source": [
    "# Test out Logistic Regression Classifier on tricky messages:\n",
    "for message in tricky_messages:\n",
    "    print(f'\\033[1mMessage: \\033[0m {message}')\n",
    "    print(f'\\033[1mLabel: \\033[0m {Log_Reg_Classifier(message)}\\n')"
   ]
  },
  {
   "cell_type": "code",
   "execution_count": 35,
   "metadata": {},
   "outputs": [
    {
     "data": {
      "text/plain": [
       "'spam'"
      ]
     },
     "execution_count": 35,
     "metadata": {},
     "output_type": "execute_result"
    }
   ],
   "source": [
    "# Test out Logistic Regression Classifier on message we generated\n",
    "Log_Reg_Classifier('Nokia ringtone')"
   ]
  },
  {
   "cell_type": "code",
   "execution_count": 36,
   "metadata": {},
   "outputs": [
    {
     "data": {
      "text/plain": [
       "'not spam'"
      ]
     },
     "execution_count": 36,
     "metadata": {},
     "output_type": "execute_result"
    }
   ],
   "source": [
    "# Test out Logistic Regression Classifier on message we generated\n",
    "Log_Reg_Classifier('you win free money')"
   ]
  },
  {
   "cell_type": "markdown",
   "metadata": {},
   "source": [
    "## Conclusion\n",
    "\n",
    "Both the Naive Bayes and Logistics Regression spam filters correctly labeled messages as spam or not spam with about 97% accuracy. This seems very high, especially considering that Naive Bayes classifier only looked at the individual words used in the message. \n",
    "\n",
    "One option that exists is to tighten or loosen the requirements for messages being labeled as spam. As our models  currently exist, if a message has a 0.0001% higher chance of being spam than not spam, it gets labeled as spam. We could say that a message needs to be twice as likely to be spam in order to be labeled as spam. This would let in more spam, but would ensure that fewer non-spam messages do not get labeled as spam. The inverse of this is also possible if our desire is let fewer spam messages slip through a spam filter.\n",
    "\n",
    "\n",
    "## Future Work\n",
    "\n",
    "To increase the accuracy of our model, we could get the model to analyze sets of words. This would provide the model with more context around how each word is used. For instance, perhaps the words \"free\" and \"money\" are equally likely to be used in spam and non-spam messages, but the word set \"free money\" is used much more frequently in spam messages. This is called [n-gram analysis](https://towardsdatascience.com/understanding-word-n-grams-and-n-gram-probability-in-natural-language-processing-9d9eef0fa058) (or bi-gram analysis in the case of two word sets). "
   ]
  }
 ],
 "metadata": {
  "kernelspec": {
   "display_name": "Python 3 (ipykernel)",
   "language": "python",
   "name": "python3"
  },
  "language_info": {
   "codemirror_mode": {
    "name": "ipython",
    "version": 3
   },
   "file_extension": ".py",
   "mimetype": "text/x-python",
   "name": "python",
   "nbconvert_exporter": "python",
   "pygments_lexer": "ipython3",
   "version": "3.9.12"
  }
 },
 "nbformat": 4,
 "nbformat_minor": 4
}
